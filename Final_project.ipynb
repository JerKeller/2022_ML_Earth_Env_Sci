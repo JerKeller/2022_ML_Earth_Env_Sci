{
  "nbformat": 4,
  "nbformat_minor": 0,
  "metadata": {
    "colab": {
      "name": "Final_project.ipynb",
      "provenance": [],
      "authorship_tag": "ABX9TyP0wMUs2cbAvPjmkIiR9Hra",
      "include_colab_link": true
    },
    "kernelspec": {
      "name": "python3",
      "display_name": "Python 3"
    },
    "language_info": {
      "name": "python"
    },
    "accelerator": "GPU"
  },
  "cells": [
    {
      "cell_type": "markdown",
      "metadata": {
        "id": "view-in-github",
        "colab_type": "text"
      },
      "source": [
        "<a href=\"https://colab.research.google.com/github/JerKeller/2022_ML_Earth_Env_Sci/blob/main/Final_project.ipynb\" target=\"_parent\"><img src=\"https://colab.research.google.com/assets/colab-badge.svg\" alt=\"Open In Colab\"/></a>"
      ]
    },
    {
      "cell_type": "code",
      "execution_count": 17,
      "metadata": {
        "id": "JdXvHCq0N8No",
        "colab": {
          "base_uri": "https://localhost:8080/"
        },
        "outputId": "c399e6c1-7345-4d13-fe60-0de67b71fe00"
      },
      "outputs": [
        {
          "output_type": "stream",
          "name": "stdout",
          "text": [
            "GPU runtime succesfully selected! We're ready to train our CNNs.\n",
            "The tensorboard extension is already loaded. To reload it, use:\n",
            "  %reload_ext tensorboard\n"
          ]
        }
      ],
      "source": [
        "# Python ≥3.5 is required\n",
        "import sys\n",
        "assert sys.version_info >= (3, 5)\n",
        "\n",
        "# Is this notebook running on Colab or Kaggle?\n",
        "IS_COLAB = \"google.colab\" in sys.modules\n",
        "IS_KAGGLE = \"kaggle_secrets\" in sys.modules\n",
        "\n",
        "# Scikit-Learn ≥0.20 is required\n",
        "import sklearn\n",
        "assert sklearn.__version__ >= \"0.20\"\n",
        "\n",
        "# TensorFlow ≥2.0 is required\n",
        "import tensorflow as tf\n",
        "import tensorflow_datasets as tfds\n",
        "from tensorflow import keras\n",
        "assert tf.__version__ >= \"1.0\"\n",
        "\n",
        "if not tf.config.list_physical_devices('GPU'):\n",
        "    print(\"No GPU was detected. CNNs can be very slow without a GPU.\")\n",
        "    if IS_COLAB:\n",
        "        print(\"Go to Runtime > Change runtime and select a GPU hardware accelerator.\")\n",
        "    if IS_KAGGLE:\n",
        "        print(\"Go to Settings > Accelerator and select GPU.\")\n",
        "else:\n",
        "    print(f\"GPU runtime succesfully selected! We're ready to train our CNNs.\")\n",
        "\n",
        "# Common imports\n",
        "import numpy as np\n",
        "import os\n",
        "import pooch\n",
        "import pandas as pd\n",
        "from tensorflow import train as t\n",
        "\n",
        "\n",
        "# to make this notebook's output stable across runs\n",
        "rnd_seed = 42\n",
        "rnd_gen = np.random.default_rng(rnd_seed)\n",
        "\n",
        "# To plot pretty figures\n",
        "%matplotlib inline\n",
        "import matplotlib as mpl\n",
        "import matplotlib.pyplot as plt\n",
        "mpl.rc('axes', labelsize=14)\n",
        "mpl.rc('xtick', labelsize=12)\n",
        "mpl.rc('ytick', labelsize=12)\n",
        "\n",
        "# Where to save the figures\n",
        "PROJECT_ROOT_DIR = \".\"\n",
        "CHAPTER_ID = \"cnn\"\n",
        "IMAGES_PATH = os.path.join(PROJECT_ROOT_DIR, \"images\", CHAPTER_ID)\n",
        "os.makedirs(IMAGES_PATH, exist_ok=True)\n",
        "\n",
        "def save_fig(fig_id, tight_layout=True, fig_extension=\"png\", resolution=300):\n",
        "    path = os.path.join(IMAGES_PATH, fig_id + \".\" + fig_extension)\n",
        "    print(\"Saving figure\", fig_id)\n",
        "    if tight_layout:\n",
        "        plt.tight_layout()\n",
        "    plt.savefig(path, format=fig_extension, dpi=resolution)\n",
        "\n",
        "# Loading Tensorboard\n",
        "%load_ext tensorboard"
      ]
    },
    {
      "cell_type": "code",
      "source": [
        "from importlib import reload\n",
        "reload(t)"
      ],
      "metadata": {
        "colab": {
          "base_uri": "https://localhost:8080/"
        },
        "id": "_hkA9OstBvPJ",
        "outputId": "1b6af1d9-6831-490b-ed45-950d5a283ca5"
      },
      "execution_count": 13,
      "outputs": [
        {
          "output_type": "execute_result",
          "data": {
            "text/plain": [
              "<module 'tensorflow._api.v2.train' from '/usr/local/lib/python3.7/dist-packages/tensorflow/_api/v2/train/__init__.py'>"
            ]
          },
          "metadata": {},
          "execution_count": 13
        }
      ]
    },
    {
      "cell_type": "code",
      "source": [
        "# Data setup\n",
        "keras.backend.clear_session()\n",
        "tf.random.set_seed(rnd_seed)\n",
        "np.random.seed(rnd_seed)\n",
        "\n",
        "\n",
        "from importlib import reload\n",
        "import keras, glob\n"
      ],
      "metadata": {
        "colab": {
          "base_uri": "https://localhost:8080/",
          "height": 201
        },
        "id": "rTi5h6K-qe7X",
        "outputId": "9d195447-5e8a-4c13-851d-e9a909c4a822"
      },
      "execution_count": 20,
      "outputs": [
        {
          "output_type": "error",
          "ename": "AttributeError",
          "evalue": "ignored",
          "traceback": [
            "\u001b[0;31m---------------------------------------------------------------------------\u001b[0m",
            "\u001b[0;31mAttributeError\u001b[0m                            Traceback (most recent call last)",
            "\u001b[0;32m<ipython-input-20-62bd410ff0ca>\u001b[0m in \u001b[0;36m<module>\u001b[0;34m()\u001b[0m\n\u001b[1;32m      8\u001b[0m \u001b[0;32mimport\u001b[0m \u001b[0mkeras\u001b[0m\u001b[0;34m,\u001b[0m \u001b[0mglob\u001b[0m\u001b[0;34m\u001b[0m\u001b[0;34m\u001b[0m\u001b[0m\n\u001b[1;32m      9\u001b[0m \u001b[0;34m\u001b[0m\u001b[0m\n\u001b[0;32m---> 10\u001b[0;31m \u001b[0msim\u001b[0m\u001b[0;34m=\u001b[0m\u001b[0mt\u001b[0m\u001b[0;34m.\u001b[0m\u001b[0mCtrain\u001b[0m\u001b[0;34m(\u001b[0m\u001b[0;34m)\u001b[0m\u001b[0;34m\u001b[0m\u001b[0;34m\u001b[0m\u001b[0m\n\u001b[0m",
            "\u001b[0;31mAttributeError\u001b[0m: module 'tensorflow._api.v2.train' has no attribute 'Ctrain'"
          ]
        }
      ]
    },
    {
      "cell_type": "code",
      "source": [
        "\n",
        "def SetModelParams(kind):\n",
        "    ''' \n",
        "    A quick way to set compatible user parameters of data and model kinds\n",
        "    \n",
        "    Input: kind = either 'image', 'feat' or 'mixed'\n",
        "    Output: model_image, model_feat, datakind, ttkind, aug\n",
        "    '''\n",
        "    \n",
        "    if kind == 'image':\n",
        "        return ('conv2', None, 'image', 'image', True)\n",
        "    \n",
        "    elif kind == 'feat':\n",
        "        return (None, 'mlp', 'feat', 'feat', False)\n",
        "    \n",
        "    elif kind == 'mixed':\n",
        "        return ('conv2', 'mlp', 'mixed', 'mixed', False)"
      ],
      "metadata": {
        "id": "amgOyr1RuDRn"
      },
      "execution_count": 4,
      "outputs": []
    },
    {
      "cell_type": "code",
      "source": [
        "model_image, model_feat, datakind, ttkind, aug = SetModelParams('image')\n",
        "\n",
        "sim.UpdateParams(\n",
        "    datapaths=['./data/1_zooplankton_0p5x/training/zooplankton_trainingset_2020.04.28/',\n",
        "               './data/1_zooplankton_0p5x/training/zooplankton_trainingset_2020.07.06/'],\n",
        "    outpath     = 'out_example', \n",
        "    L           = 128, \n",
        "    aug         = aug, \n",
        "    model_feat  = model_feat,\n",
        "    model_image = model_image,\n",
        "    datakind    = datakind, \n",
        "    ttkind      = ttkind,\n",
        "    class_select= ['daphnia','bosmina','unknown_plankton'] #None\n",
        "    )"
      ],
      "metadata": {
        "colab": {
          "base_uri": "https://localhost:8080/",
          "height": 235
        },
        "id": "KYamJ_ZX7WDE",
        "outputId": "4dcbeab0-9867-49f4-e60a-3e8e22bc82e6"
      },
      "execution_count": 5,
      "outputs": [
        {
          "output_type": "error",
          "ename": "NameError",
          "evalue": "ignored",
          "traceback": [
            "\u001b[0;31m---------------------------------------------------------------------------\u001b[0m",
            "\u001b[0;31mNameError\u001b[0m                                 Traceback (most recent call last)",
            "\u001b[0;32m<ipython-input-5-cc3a0f3ac2b3>\u001b[0m in \u001b[0;36m<module>\u001b[0;34m()\u001b[0m\n\u001b[1;32m      1\u001b[0m \u001b[0mmodel_image\u001b[0m\u001b[0;34m,\u001b[0m \u001b[0mmodel_feat\u001b[0m\u001b[0;34m,\u001b[0m \u001b[0mdatakind\u001b[0m\u001b[0;34m,\u001b[0m \u001b[0mttkind\u001b[0m\u001b[0;34m,\u001b[0m \u001b[0maug\u001b[0m \u001b[0;34m=\u001b[0m \u001b[0mSetModelParams\u001b[0m\u001b[0;34m(\u001b[0m\u001b[0;34m'image'\u001b[0m\u001b[0;34m)\u001b[0m\u001b[0;34m\u001b[0m\u001b[0;34m\u001b[0m\u001b[0m\n\u001b[1;32m      2\u001b[0m \u001b[0;34m\u001b[0m\u001b[0m\n\u001b[0;32m----> 3\u001b[0;31m sim.UpdateParams(\n\u001b[0m\u001b[1;32m      4\u001b[0m     datapaths=['./data/1_zooplankton_0p5x/training/zooplankton_trainingset_2020.04.28/',\n\u001b[1;32m      5\u001b[0m                './data/1_zooplankton_0p5x/training/zooplankton_trainingset_2020.07.06/'],\n",
            "\u001b[0;31mNameError\u001b[0m: name 'sim' is not defined"
          ]
        }
      ]
    },
    {
      "cell_type": "code",
      "source": [
        ""
      ],
      "metadata": {
        "id": "XpirZ4xWIelD"
      },
      "execution_count": null,
      "outputs": []
    }
  ]
}